{
 "cells": [
  {
   "cell_type": "markdown",
   "metadata": {},
   "source": [
    "# Keras Movie Review Practice Excercise\n",
    "## by: Guillermo Campollo\n",
    "### 4/17/2020"
   ]
  },
  {
   "cell_type": "code",
   "execution_count": 14,
   "metadata": {},
   "outputs": [],
   "source": [
    "from keras.datasets import imdb as imbd\n",
    "import numpy as np"
   ]
  },
  {
   "cell_type": "markdown",
   "metadata": {},
   "source": [
    "# Downloading the data, and separating it"
   ]
  },
  {
   "cell_type": "code",
   "execution_count": 7,
   "metadata": {},
   "outputs": [
    {
     "name": "stdout",
     "output_type": "stream",
     "text": [
      "Downloading data from https://s3.amazonaws.com/text-datasets/imdb.npz\n",
      "17465344/17464789 [==============================] - 1s 0us/step\n"
     ]
    }
   ],
   "source": [
    "#Each word is has its own value and there are only 10,000 available words\n",
    "(train_data, train_labels),(test_data,test_labels)=imbd.load_data(num_words=10000)"
   ]
  },
  {
   "cell_type": "markdown",
   "metadata": {},
   "source": [
    "# Converting our data to tensors"
   ]
  },
  {
   "cell_type": "code",
   "execution_count": 26,
   "metadata": {},
   "outputs": [],
   "source": [
    "#This functions helps us to transform each comment into a vector of len 10,000\n",
    "def vectorize_sequences(sequences,dimension=10000):\n",
    "    results=np.zeros((len(sequences),dimension))\n",
    "    for i, sequence in enumerate(sequences):\n",
    "        results[i,sequence]=1.\n",
    "    return results"
   ]
  },
  {
   "cell_type": "code",
   "execution_count": 65,
   "metadata": {},
   "outputs": [],
   "source": [
    "# We've now transformed each comment into a series of 0s and 1s\n",
    "# Resulting in a shape of (25,000,10,000) 25k comments with 10k possible words\n",
    "  \n",
    "X_trai n= vectorize_sequences(train_data)\n",
    "X_test = vectorize_sequences(test_data)\n",
    "\n",
    "#Now reshaping our labels to float\n",
    "y_train = np.asarray(train_labels).astype('float32')\n",
    "y_test = np.asarray(test_labels).astype('float32')\n"
   ]
  },
  {
   "cell_type": "markdown",
   "metadata": {},
   "source": [
    "# Approach\n",
    "### Since we are dealing with 2D tensors that came from input VECTORS and a scalar y we will be using fully connected (Dense) layers with relu activations"
   ]
  },
  {
   "cell_type": "code",
   "execution_count": 66,
   "metadata": {},
   "outputs": [],
   "source": [
    "#importing keras \n",
    "from keras import models\n",
    "from keras import layers\n",
    "\n",
    "#Creating model\n",
    "model = models.Sequential()\n",
    "#Creating layers:\n",
    "'''\n",
    "2 intermediate layers with 16 units each and relu activation\n",
    "1 output layer with sigmoid activation\n",
    "'''\n",
    "model.add(layers.Dense(16,activation='relu',input_shape=(10000,)))\n",
    "model.add(layers.Dense(16,activation='relu'))\n",
    "model.add(layers.Dense(1,activation='sigmoid'))"
   ]
  },
  {
   "cell_type": "markdown",
   "metadata": {},
   "source": [
    "### Compilation"
   ]
  },
  {
   "cell_type": "code",
   "execution_count": 67,
   "metadata": {},
   "outputs": [],
   "source": [
    "\n",
    "#We are using binary_crossentropy for loss function, since it is a binary classification\n",
    "model.compile(optimizer='rmsprop',\n",
    "             loss='binary_crossentropy',\n",
    "             metrics=['acc'])\n"
   ]
  },
  {
   "cell_type": "markdown",
   "metadata": {},
   "source": [
    "### Training and history"
   ]
  },
  {
   "cell_type": "code",
   "execution_count": 68,
   "metadata": {},
   "outputs": [
    {
     "name": "stdout",
     "output_type": "stream",
     "text": [
      "Train on 15000 samples, validate on 10000 samples\n",
      "Epoch 1/20\n",
      "15000/15000 [==============================] - 4s 299us/step - loss: 0.5399 - acc: 0.7665 - val_loss: 0.4631 - val_acc: 0.7821\n",
      "Epoch 2/20\n",
      "15000/15000 [==============================] - 3s 230us/step - loss: 0.3369 - acc: 0.8982 - val_loss: 0.3260 - val_acc: 0.8841\n",
      "Epoch 3/20\n",
      "15000/15000 [==============================] - 3s 231us/step - loss: 0.2488 - acc: 0.9243 - val_loss: 0.2871 - val_acc: 0.8916\n",
      "Epoch 4/20\n",
      "15000/15000 [==============================] - 3s 232us/step - loss: 0.1946 - acc: 0.9397 - val_loss: 0.2979 - val_acc: 0.8794\n",
      "Epoch 5/20\n",
      "15000/15000 [==============================] - 4s 239us/step - loss: 0.1574 - acc: 0.9517 - val_loss: 0.2859 - val_acc: 0.8858\n",
      "Epoch 6/20\n",
      "15000/15000 [==============================] - 3s 233us/step - loss: 0.1316 - acc: 0.9616 - val_loss: 0.2944 - val_acc: 0.8830\n",
      "Epoch 7/20\n",
      "15000/15000 [==============================] - 3s 231us/step - loss: 0.1103 - acc: 0.9683 - val_loss: 0.2969 - val_acc: 0.8854\n",
      "Epoch 8/20\n",
      "15000/15000 [==============================] - 3s 227us/step - loss: 0.0926 - acc: 0.9741 - val_loss: 0.3068 - val_acc: 0.8831\n",
      "Epoch 9/20\n",
      "15000/15000 [==============================] - 3s 231us/step - loss: 0.0771 - acc: 0.9801 - val_loss: 0.3256 - val_acc: 0.8801\n",
      "Epoch 10/20\n",
      "15000/15000 [==============================] - 3s 230us/step - loss: 0.0636 - acc: 0.9835 - val_loss: 0.3465 - val_acc: 0.8812\n",
      "Epoch 11/20\n",
      "15000/15000 [==============================] - 4s 234us/step - loss: 0.0533 - acc: 0.9882 - val_loss: 0.3688 - val_acc: 0.8775\n",
      "Epoch 12/20\n",
      "15000/15000 [==============================] - 4s 239us/step - loss: 0.0439 - acc: 0.9901 - val_loss: 0.4068 - val_acc: 0.8710\n",
      "Epoch 13/20\n",
      "15000/15000 [==============================] - 4s 236us/step - loss: 0.0354 - acc: 0.9931 - val_loss: 0.4183 - val_acc: 0.8755\n",
      "Epoch 14/20\n",
      "15000/15000 [==============================] - 3s 226us/step - loss: 0.0285 - acc: 0.9950 - val_loss: 0.4648 - val_acc: 0.8691\n",
      "Epoch 15/20\n",
      "15000/15000 [==============================] - 3s 233us/step - loss: 0.0253 - acc: 0.9961 - val_loss: 0.4883 - val_acc: 0.8695\n",
      "Epoch 16/20\n",
      "15000/15000 [==============================] - 4s 235us/step - loss: 0.0183 - acc: 0.9979 - val_loss: 0.4990 - val_acc: 0.8704\n",
      "Epoch 17/20\n",
      "15000/15000 [==============================] - 3s 231us/step - loss: 0.0149 - acc: 0.9986 - val_loss: 0.5289 - val_acc: 0.8707\n",
      "Epoch 18/20\n",
      "15000/15000 [==============================] - 3s 230us/step - loss: 0.0132 - acc: 0.9987 - val_loss: 0.5676 - val_acc: 0.8673\n",
      "Epoch 19/20\n",
      "15000/15000 [==============================] - 3s 228us/step - loss: 0.0111 - acc: 0.9989 - val_loss: 0.5839 - val_acc: 0.8681\n",
      "Epoch 20/20\n",
      "15000/15000 [==============================] - 3s 232us/step - loss: 0.0063 - acc: 0.9996 - val_loss: 0.6212 - val_acc: 0.8661\n"
     ]
    }
   ],
   "source": [
    "#Setting a validation set for tracking performance inside the network\n",
    "X_val = X_train[:10000] \n",
    "partial_X_train = X_train[10000:]\n",
    "y_val = y_train[:10000]\n",
    "partial_y_train = y_train[10000:]\n",
    "#Training network\n",
    "history = model.fit(partial_X_train,\n",
    "                 partial_y_train,\n",
    "                 epochs=20,\n",
    "                 batch_size=512,\n",
    "                 validation_data=[X_val,y_val])\n",
    "\n"
   ]
  },
  {
   "cell_type": "markdown",
   "metadata": {},
   "source": [
    "### Displaying the history of our model"
   ]
  },
  {
   "cell_type": "code",
   "execution_count": 72,
   "metadata": {},
   "outputs": [
    {
     "data": {
      "text/plain": [
       "dict_keys(['val_loss', 'val_acc', 'loss', 'acc'])"
      ]
     },
     "execution_count": 72,
     "metadata": {},
     "output_type": "execute_result"
    }
   ],
   "source": [
    "history_dict= history.history\n",
    "history_dict.keys()"
   ]
  },
  {
   "cell_type": "markdown",
   "metadata": {},
   "source": [
    "# Visualizing Loss"
   ]
  },
  {
   "cell_type": "code",
   "execution_count": 77,
   "metadata": {},
   "outputs": [
    {
     "data": {
      "image/png": "[encoded data removed]",
      "text/plain": [
       "<Figure size 432x288 with 1 Axes>"
      ]
     },
     "metadata": {
      "needs_background": "light"
     },
     "output_type": "display_data"
    }
   ],
   "source": [
    "import matplotlib.pyplot as plt\n",
    "\n",
    "loss_values = history_dict['loss']\n",
    "val_loss_values = history_dict['val_loss']\n",
    "\n",
    "epochs = range(1,20+1)\n",
    "\n",
    "plt.plot(epochs, loss_values, 'bo', label = 'Training Loss')\n",
    "plt.plot(epochs, val_loss_values, 'b', label = 'Validation loss')\n",
    "plt.title('Training and Validation Loss')\n",
    "plt.xlabel('Epochs')\n",
    "plt.ylabel('Loss')\n",
    "plt.legend()\n",
    "\n",
    "plt.show()"
   ]
  },
  {
   "cell_type": "markdown",
   "metadata": {},
   "source": [
    "# Making predictions"
   ]
  },
  {
   "cell_type": "code",
   "execution_count": 88,
   "metadata": {},
   "outputs": [],
   "source": [
    "y_pred=list(model.predict(X_test))\n"
   ]
  },
  {
   "cell_type": "code",
   "execution_count": 89,
   "metadata": {},
   "outputs": [],
   "source": [
    "#Converting to 1s and 0s\n",
    "for i in range(len(y_pred)):\n",
    "    if y_pred[i]>=.5:\n",
    "        y_pred[i]=1\n",
    "    else:\n",
    "        y_pred[i]=0"
   ]
  },
  {
   "cell_type": "code",
   "execution_count": 91,
   "metadata": {},
   "outputs": [
    {
     "data": {
      "text/plain": [
       "0.85072"
      ]
     },
     "execution_count": 91,
     "metadata": {},
     "output_type": "execute_result"
    }
   ],
   "source": [
    "from sklearn.metrics import accuracy_score\n",
    "accuracy_score(y_pred,y_test)"
   ]
  },
  {
   "cell_type": "markdown",
   "metadata": {},
   "source": [
    "### With this approach we got 85% accuracy on our test set"
   ]
  },
  {
   "cell_type": "code",
   "execution_count": null,
   "metadata": {},
   "outputs": [],
   "source": []
  }
 ],
 "metadata": {
  "kernelspec": {
   "display_name": "Python 3",
   "language": "python",
   "name": "python3"
  },
  "language_info": {
   "codemirror_mode": {
    "name": "ipython",
    "version": 3
   },
   "file_extension": ".py",
   "mimetype": "text/x-python",
   "name": "python",
   "nbconvert_exporter": "python",
   "pygments_lexer": "ipython3",
   "version": "3.7.4"
  }
 },
 "nbformat": 4,
 "nbformat_minor": 4
}
